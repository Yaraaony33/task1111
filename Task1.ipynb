{
 "cells": [
  {
   "cell_type": "code",
   "execution_count": 21,
   "id": "b7bcfffe",
   "metadata": {},
   "outputs": [],
   "source": [
    "\n",
    "\n",
    "import cobra"
   ]
  },
  {
   "cell_type": "code",
   "execution_count": 22,
   "id": "40297a33",
   "metadata": {},
   "outputs": [],
   "source": [
    "from cobra import Model,Reaction,Metabolite"
   ]
  },
  {
   "cell_type": "code",
   "execution_count": 23,
   "id": "cc77a3f7",
   "metadata": {},
   "outputs": [],
   "source": [
    "model=Model('example')"
   ]
  },
  {
   "cell_type": "code",
   "execution_count": 24,
   "id": "f6c9437c",
   "metadata": {},
   "outputs": [],
   "source": [
    "###### v1 : A=====> B ###################################\n",
    "\n",
    "v1=Reaction('v1')\n",
    "v1.name='V1'\n",
    "v1.lower_bound=0\n",
    "v1.upper_bound=1000"
   ]
  },
  {
   "cell_type": "code",
   "execution_count": 25,
   "id": "feb30225",
   "metadata": {},
   "outputs": [],
   "source": [
    "###### v2 : B=====> c ###################################\n",
    "\n",
    "\n",
    "v2=Reaction('v2')\n",
    "v2.name='V2'\n",
    "v2.lower_bound=0\n",
    "v2.upper_bound=1000"
   ]
  },
  {
   "cell_type": "code",
   "execution_count": 26,
   "id": "b1b4737d",
   "metadata": {},
   "outputs": [],
   "source": [
    "###### v0 : =====> A ###################################\n",
    "\n",
    "v0=Reaction('v0')\n",
    "v0.name='V0'\n",
    "v0.lower_bound=1\n",
    "v0.upper_bound=1"
   ]
  },
  {
   "cell_type": "code",
   "execution_count": 27,
   "id": "96e02cb3",
   "metadata": {},
   "outputs": [],
   "source": [
    "###### M : C=====>  ###################################\n",
    "\n",
    "\n",
    "M=Reaction('M')\n",
    "M.name='M'\n",
    "M.lower_bound=0\n",
    "M.upper_bound=1000"
   ]
  },
  {
   "cell_type": "code",
   "execution_count": 28,
   "id": "9d2d6cc3",
   "metadata": {},
   "outputs": [],
   "source": [
    "###### ATP_R : A=====> ATP ###################################\n",
    "\n",
    "ATP_R=Reaction('ATP_R')\n",
    "ATP_R.name='ATP_R'\n",
    "ATP_R.lower_bound=0\n",
    "ATP_R.upper_bound=1000"
   ]
  },
  {
   "cell_type": "code",
   "execution_count": 29,
   "id": "19bd6415",
   "metadata": {},
   "outputs": [],
   "source": [
    "\n",
    "###### V3 : ATP=====>  ###################################\n",
    "\n",
    "v3=Reaction('v3')\n",
    "ATP_R.name='v3'\n",
    "ATP_R.lower_bound=.9\n",
    "ATP_R.upper_bound=.9\n"
   ]
  },
  {
   "cell_type": "code",
   "execution_count": 30,
   "id": "f08ef0a8",
   "metadata": {},
   "outputs": [],
   "source": [
    "A= Metabolite(\n",
    "    'A',compartment='c')\n",
    "B=Metabolite(\n",
    "    'B',compartment='c')\n",
    "C= Metabolite(\n",
    "    'C',compartment='c')\n"
   ]
  },
  {
   "cell_type": "code",
   "execution_count": 31,
   "id": "bb2b4743",
   "metadata": {},
   "outputs": [],
   "source": [
    "ATP= Metabolite(\n",
    "    'ATP',compartment='c')"
   ]
  },
  {
   "cell_type": "code",
   "execution_count": 32,
   "id": "353de2d8",
   "metadata": {},
   "outputs": [],
   "source": [
    "###### Add metabolites in reaction V1 ###################################\n",
    "\n",
    "\n",
    "v1.add_metabolites({A:-1,B:1})\n",
    "\n",
    "###### Add metabolites in reaction V2 ###################################\n",
    "\n",
    "v2.add_metabolites({B:-1,C:1})"
   ]
  },
  {
   "cell_type": "code",
   "execution_count": 33,
   "id": "06180c55",
   "metadata": {},
   "outputs": [],
   "source": [
    "###### Add metabolites in reaction V0 ###################################\n",
    "\n",
    "v0.add_metabolites({A:1})"
   ]
  },
  {
   "cell_type": "code",
   "execution_count": 34,
   "id": "23653b04",
   "metadata": {},
   "outputs": [],
   "source": [
    "###### Add metabolites in reaction M ###################################\n",
    "\n",
    "M.add_metabolites({C:-1})"
   ]
  },
  {
   "cell_type": "code",
   "execution_count": 35,
   "id": "17095262",
   "metadata": {},
   "outputs": [],
   "source": [
    "###### Add metabolites in reaction ATP_R ###################################\n",
    "\n",
    "ATP_R.add_metabolites({A:-1,ATP:1})"
   ]
  },
  {
   "cell_type": "code",
   "execution_count": 36,
   "id": "cc5b74df",
   "metadata": {},
   "outputs": [],
   "source": [
    "###### Add metabolites in reaction V3 ###################################\n",
    "\n",
    "v3.add_metabolites({ATP:-1})"
   ]
  },
  {
   "cell_type": "code",
   "execution_count": 37,
   "id": "83350794",
   "metadata": {},
   "outputs": [],
   "source": [
    "###### Add reactions in model  ###################################\n",
    "\n",
    "model.add_reactions([v0,v1,ATP_R,v2,v3,M])"
   ]
  },
  {
   "cell_type": "code",
   "execution_count": 38,
   "id": "d1e4e9de",
   "metadata": {},
   "outputs": [],
   "source": [
    "###### Put M as a objective function  ###################################\n",
    "\n",
    "model.objective = 'M'"
   ]
  },
  {
   "cell_type": "code",
   "execution_count": 39,
   "id": "b72734ae",
   "metadata": {},
   "outputs": [
    {
     "data": {
      "text/html": [
       "<strong><em>Optimal</em> solution with objective value 0.100</strong><br><div>\n",
       "<style scoped>\n",
       "    .dataframe tbody tr th:only-of-type {\n",
       "        vertical-align: middle;\n",
       "    }\n",
       "\n",
       "    .dataframe tbody tr th {\n",
       "        vertical-align: top;\n",
       "    }\n",
       "\n",
       "    .dataframe thead th {\n",
       "        text-align: right;\n",
       "    }\n",
       "</style>\n",
       "<table border=\"1\" class=\"dataframe\">\n",
       "  <thead>\n",
       "    <tr style=\"text-align: right;\">\n",
       "      <th></th>\n",
       "      <th>fluxes</th>\n",
       "      <th>reduced_costs</th>\n",
       "    </tr>\n",
       "  </thead>\n",
       "  <tbody>\n",
       "    <tr>\n",
       "      <th>v0</th>\n",
       "      <td>1.0</td>\n",
       "      <td>2.0</td>\n",
       "    </tr>\n",
       "    <tr>\n",
       "      <th>v1</th>\n",
       "      <td>0.1</td>\n",
       "      <td>0.0</td>\n",
       "    </tr>\n",
       "    <tr>\n",
       "      <th>ATP_R</th>\n",
       "      <td>0.9</td>\n",
       "      <td>-2.0</td>\n",
       "    </tr>\n",
       "    <tr>\n",
       "      <th>v2</th>\n",
       "      <td>0.1</td>\n",
       "      <td>0.0</td>\n",
       "    </tr>\n",
       "    <tr>\n",
       "      <th>v3</th>\n",
       "      <td>0.9</td>\n",
       "      <td>0.0</td>\n",
       "    </tr>\n",
       "    <tr>\n",
       "      <th>M</th>\n",
       "      <td>0.1</td>\n",
       "      <td>0.0</td>\n",
       "    </tr>\n",
       "  </tbody>\n",
       "</table>\n",
       "</div>"
      ],
      "text/plain": [
       "<Solution 0.100 at 0x14538c05280>"
      ]
     },
     "execution_count": 39,
     "metadata": {},
     "output_type": "execute_result"
    }
   ],
   "source": [
    "model.optimize()"
   ]
  },
  {
   "cell_type": "code",
   "execution_count": 40,
   "id": "c8667d74",
   "metadata": {},
   "outputs": [
    {
     "data": {
      "text/html": [
       "<h3>Objective</h3><p>1.0 M = 0.09999999999999998</p><h4>Uptake</h4><table border=\"1\" class=\"dataframe\">\n",
       "  <thead>\n",
       "    <tr style=\"text-align: right;\">\n",
       "      <th>Metabolite</th>\n",
       "      <th>Reaction</th>\n",
       "      <th>Flux</th>\n",
       "      <th>C-Number</th>\n",
       "      <th>C-Flux</th>\n",
       "    </tr>\n",
       "  </thead>\n",
       "  <tbody>\n",
       "    <tr>\n",
       "      <td>A</td>\n",
       "      <td>v0</td>\n",
       "      <td>1</td>\n",
       "      <td>0</td>\n",
       "      <td>0.00%</td>\n",
       "    </tr>\n",
       "  </tbody>\n",
       "</table><h4>Secretion</h4><table border=\"1\" class=\"dataframe\">\n",
       "  <thead>\n",
       "    <tr style=\"text-align: right;\">\n",
       "      <th>Metabolite</th>\n",
       "      <th>Reaction</th>\n",
       "      <th>Flux</th>\n",
       "      <th>C-Number</th>\n",
       "      <th>C-Flux</th>\n",
       "    </tr>\n",
       "  </thead>\n",
       "  <tbody>\n",
       "    <tr>\n",
       "      <td>C</td>\n",
       "      <td>M</td>\n",
       "      <td>-0.1</td>\n",
       "      <td>0</td>\n",
       "      <td>0.00%</td>\n",
       "    </tr>\n",
       "    <tr>\n",
       "      <td>ATP</td>\n",
       "      <td>v3</td>\n",
       "      <td>-0.9</td>\n",
       "      <td>0</td>\n",
       "      <td>0.00%</td>\n",
       "    </tr>\n",
       "  </tbody>\n",
       "</table>"
      ],
      "text/plain": [
       "<cobra.summary.model_summary.ModelSummary at 0x14538bd6d30>"
      ]
     },
     "execution_count": 40,
     "metadata": {},
     "output_type": "execute_result"
    }
   ],
   "source": [
    "model.summary()"
   ]
  },
  {
   "cell_type": "code",
   "execution_count": null,
   "id": "0fd729d3",
   "metadata": {},
   "outputs": [],
   "source": []
  },
  {
   "cell_type": "code",
   "execution_count": null,
   "id": "78618849",
   "metadata": {},
   "outputs": [],
   "source": []
  }
 ],
 "metadata": {
  "kernelspec": {
   "display_name": "Python 3 (ipykernel)",
   "language": "python",
   "name": "python3"
  },
  "language_info": {
   "codemirror_mode": {
    "name": "ipython",
    "version": 3
   },
   "file_extension": ".py",
   "mimetype": "text/x-python",
   "name": "python",
   "nbconvert_exporter": "python",
   "pygments_lexer": "ipython3",
   "version": "3.9.7"
  }
 },
 "nbformat": 4,
 "nbformat_minor": 5
}
